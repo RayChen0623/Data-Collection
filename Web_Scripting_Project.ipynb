{
  "nbformat": 4,
  "nbformat_minor": 0,
  "metadata": {
    "colab": {
      "name": "Web_Scripting_Project.ipynb",
      "provenance": [],
      "collapsed_sections": [],
      "include_colab_link": true
    },
    "kernelspec": {
      "name": "python3",
      "display_name": "Python 3"
    }
  },
  "cells": [
    {
      "cell_type": "markdown",
      "metadata": {
        "id": "view-in-github",
        "colab_type": "text"
      },
      "source": [
        "<a href=\"https://colab.research.google.com/github/RayChen0623/Data-Collection/blob/master/Web_Scripting_Project.ipynb\" target=\"_parent\"><img src=\"https://colab.research.google.com/assets/colab-badge.svg\" alt=\"Open In Colab\"/></a>"
      ]
    },
    {
      "cell_type": "markdown",
      "metadata": {
        "id": "NnSCmu3BJqXm",
        "colab_type": "text"
      },
      "source": [
        "#Package"
      ]
    },
    {
      "cell_type": "code",
      "metadata": {
        "id": "NCIsGDhPg4S8",
        "colab_type": "code",
        "colab": {}
      },
      "source": [
        "import pandas as pd\n",
        "import numpy as np\n",
        "import requests\n",
        "import lxml.html as lh\n",
        "import datetime as dt"
      ],
      "execution_count": 0,
      "outputs": []
    },
    {
      "cell_type": "markdown",
      "metadata": {
        "id": "8ObDr4uLMwnk",
        "colab_type": "text"
      },
      "source": [
        "#### source: https://towardsdatascience.com/web-scraping-html-tables-with-python-c9baba21059"
      ]
    },
    {
      "cell_type": "markdown",
      "metadata": {
        "id": "T6vmbjMIhUgh",
        "colab_type": "text"
      },
      "source": [
        "## Web Scriping from 090119 to now"
      ]
    },
    {
      "cell_type": "code",
      "metadata": {
        "id": "bn41DVsqiHmS",
        "colab_type": "code",
        "colab": {}
      },
      "source": [
        "dataList = [dt.datetime.now() - dt.timedelta(days = x) for x in range(0, (dt.datetime.now() - pd.to_datetime(dt.date(2019, 9, 1))).days)]"
      ],
      "execution_count": 0,
      "outputs": []
    },
    {
      "cell_type": "code",
      "metadata": {
        "id": "e2Jq2P6F-uvK",
        "colab_type": "code",
        "colab": {}
      },
      "source": [
        "dataList2 = []\n",
        "for x in dataList:\n",
        "  dataList2.append(str(x.date()))"
      ],
      "execution_count": 0,
      "outputs": []
    },
    {
      "cell_type": "code",
      "metadata": {
        "id": "st72Jp4BlzF8",
        "colab_type": "code",
        "colab": {}
      },
      "source": [
        "url = []\n",
        "for x in dataList2:\n",
        "  url.append('https://www.xe.com/currencytables/?from=USD&date=' + x)"
      ],
      "execution_count": 0,
      "outputs": []
    },
    {
      "cell_type": "code",
      "metadata": {
        "id": "E-AzjOBklzDO",
        "colab_type": "code",
        "colab": {}
      },
      "source": [
        "df_list = []\n",
        "\n",
        "for x in url:\n",
        "  page = requests.get(x)\n",
        "  doc = lh.fromstring(page.content)\n",
        "  tr_elements = doc.xpath('//tr')\n",
        "  col=[]\n",
        "  i=0\n",
        "  for t in tr_elements[0]:\n",
        "    i+=1\n",
        "    name=t.text_content()\n",
        "    col.append((name,[]))\n",
        "  for j in range(1,len(tr_elements)):\n",
        "    T = tr_elements[j]\n",
        "    \n",
        "    if len(T)!=4:\n",
        "        break\n",
        "    i=0\n",
        "    \n",
        "    for t in T.iterchildren():\n",
        "        data=t.text_content() \n",
        "        #Check if row is empty\n",
        "        if i>0:\n",
        "            try:\n",
        "                data=int(data)\n",
        "            except:\n",
        "                pass\n",
        "        col[i][1].append(data)\n",
        "        i+=1\n",
        "  Dict = {title:column for (title,column) in col}\n",
        "  df = pd.DataFrame(Dict)\n",
        "  df['Date'] = x[-10:]\n",
        "  df_list.append(df)"
      ],
      "execution_count": 0,
      "outputs": []
    },
    {
      "cell_type": "code",
      "metadata": {
        "id": "QBw_CyJUJt7_",
        "colab_type": "code",
        "colab": {}
      },
      "source": [
        "if not df_list:\n",
        "  df = pd.DataFrame(columns = ['Currency code', 'Currency name', 'Units per USD', 'USD per Unit', 'Date'])\n",
        "else:\n",
        "  df = pd.concat(df_list[:]) #pd.concat(df_list[1:]) "
      ],
      "execution_count": 0,
      "outputs": []
    },
    {
      "cell_type": "code",
      "metadata": {
        "id": "SgJI2bGK_W6b",
        "colab_type": "code",
        "colab": {}
      },
      "source": [
        "df.columns = ['Currency code', 'Currency name', 'Units per USD', 'USD per Unit', 'Date']"
      ],
      "execution_count": 0,
      "outputs": []
    },
    {
      "cell_type": "code",
      "metadata": {
        "id": "tm9oa5X-Zd8V",
        "colab_type": "code",
        "colab": {
          "base_uri": "https://localhost:8080/",
          "height": 204
        },
        "outputId": "c9b7e7f8-8020-4f53-a5e9-e922060cc9d9"
      },
      "source": [
        "df.head()"
      ],
      "execution_count": 8,
      "outputs": [
        {
          "output_type": "execute_result",
          "data": {
            "text/html": [
              "<div>\n",
              "<style scoped>\n",
              "    .dataframe tbody tr th:only-of-type {\n",
              "        vertical-align: middle;\n",
              "    }\n",
              "\n",
              "    .dataframe tbody tr th {\n",
              "        vertical-align: top;\n",
              "    }\n",
              "\n",
              "    .dataframe thead th {\n",
              "        text-align: right;\n",
              "    }\n",
              "</style>\n",
              "<table border=\"1\" class=\"dataframe\">\n",
              "  <thead>\n",
              "    <tr style=\"text-align: right;\">\n",
              "      <th></th>\n",
              "      <th>Currency code</th>\n",
              "      <th>Currency name</th>\n",
              "      <th>Units per USD</th>\n",
              "      <th>USD per Unit</th>\n",
              "      <th>Date</th>\n",
              "    </tr>\n",
              "  </thead>\n",
              "  <tbody>\n",
              "    <tr>\n",
              "      <th>0</th>\n",
              "      <td>USD</td>\n",
              "      <td>US Dollar</td>\n",
              "      <td>1.0000000000</td>\n",
              "      <td>1.0000000000</td>\n",
              "      <td>2019-09-30</td>\n",
              "    </tr>\n",
              "    <tr>\n",
              "      <th>1</th>\n",
              "      <td>EUR</td>\n",
              "      <td>Euro</td>\n",
              "      <td>0.9137156041</td>\n",
              "      <td>1.0944324421</td>\n",
              "      <td>2019-09-30</td>\n",
              "    </tr>\n",
              "    <tr>\n",
              "      <th>2</th>\n",
              "      <td>GBP</td>\n",
              "      <td>British Pound</td>\n",
              "      <td>0.8131953591</td>\n",
              "      <td>1.2297168064</td>\n",
              "      <td>2019-09-30</td>\n",
              "    </tr>\n",
              "    <tr>\n",
              "      <th>3</th>\n",
              "      <td>INR</td>\n",
              "      <td>Indian Rupee</td>\n",
              "      <td>70.7040607236</td>\n",
              "      <td>0.0141434592</td>\n",
              "      <td>2019-09-30</td>\n",
              "    </tr>\n",
              "    <tr>\n",
              "      <th>4</th>\n",
              "      <td>AUD</td>\n",
              "      <td>Australian Dollar</td>\n",
              "      <td>1.4809930402</td>\n",
              "      <td>0.6752226195</td>\n",
              "      <td>2019-09-30</td>\n",
              "    </tr>\n",
              "  </tbody>\n",
              "</table>\n",
              "</div>"
            ],
            "text/plain": [
              "  Currency code      Currency name  Units per USD  USD per Unit        Date\n",
              "0           USD          US Dollar   1.0000000000  1.0000000000  2019-09-30\n",
              "1           EUR               Euro   0.9137156041  1.0944324421  2019-09-30\n",
              "2           GBP      British Pound   0.8131953591  1.2297168064  2019-09-30\n",
              "3           INR       Indian Rupee  70.7040607236  0.0141434592  2019-09-30\n",
              "4           AUD  Australian Dollar   1.4809930402  0.6752226195  2019-09-30"
            ]
          },
          "metadata": {
            "tags": []
          },
          "execution_count": 8
        }
      ]
    },
    {
      "cell_type": "code",
      "metadata": {
        "id": "zaeyepgG_RlD",
        "colab_type": "code",
        "colab": {}
      },
      "source": [
        ""
      ],
      "execution_count": 0,
      "outputs": []
    }
  ]
}